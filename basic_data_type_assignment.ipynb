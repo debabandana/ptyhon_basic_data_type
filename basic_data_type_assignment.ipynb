{
 "cells": [
  {
   "cell_type": "code",
   "execution_count": 18,
   "id": "3978f123-e790-4639-bfc9-a45a23e35bf0",
   "metadata": {},
   "outputs": [
    {
     "name": "stdout",
     "output_type": "stream",
     "text": [
      "reverse string is anadnababed\n"
     ]
    }
   ],
   "source": [
    "def reversestring(str):\n",
    "    str1=str[::-1]\n",
    "    print(\"reverse string is\",str1)\n",
    "    \n",
    "str='debabandana'\n",
    "reversestring(str)"
   ]
  },
  {
   "cell_type": "code",
   "execution_count": 3,
   "id": "452a7f7d-316e-4035-a566-3fc1ed9f980b",
   "metadata": {},
   "outputs": [
    {
     "name": "stdout",
     "output_type": "stream",
     "text": [
      "String is Palindron\n"
     ]
    }
   ],
   "source": [
    "def ispalin(str):\n",
    "    rev_str=str[::-1]\n",
    "    if str == rev_str:\n",
    "        print(\"String is Palindron\")\n",
    "    else:\n",
    "        print(\"String is not Palindron\")\n",
    "    \n",
    "    \n",
    "s ='malayalam'\n",
    "ispalin(s)\n",
    "\n",
    "  \n",
    "    "
   ]
  },
  {
   "cell_type": "code",
   "execution_count": 41,
   "id": "769e8937-e33b-4f0c-85b7-af6f2bf76b1b",
   "metadata": {},
   "outputs": [
    {
     "data": {
      "text/plain": [
       "'apple'"
      ]
     },
     "execution_count": 41,
     "metadata": {},
     "output_type": "execute_result"
    }
   ],
   "source": [
    "def conlow(s):\n",
    "    return s.lower()\n",
    "\n",
    "\n",
    "s='APPLE'\n",
    "conlow(s)\n"
   ]
  },
  {
   "cell_type": "code",
   "execution_count": 43,
   "id": "1f916c99-8018-4825-85fe-153653fb7eee",
   "metadata": {},
   "outputs": [
    {
     "data": {
      "text/plain": [
       "'DUFFLE'"
      ]
     },
     "execution_count": 43,
     "metadata": {},
     "output_type": "execute_result"
    }
   ],
   "source": [
    "def conupper(s):\n",
    "    return s.upper()\n",
    "\n",
    "\n",
    "s='duffle'\n",
    "conupper(s)"
   ]
  },
  {
   "cell_type": "code",
   "execution_count": 16,
   "id": "503e934a-7e12-403c-a6ee-6fa3646aa68b",
   "metadata": {},
   "outputs": [
    {
     "data": {
      "text/plain": [
       "(5, 7)"
      ]
     },
     "execution_count": 16,
     "metadata": {},
     "output_type": "execute_result"
    }
   ],
   "source": [
    "def consonantcount(str):\n",
    "    vowel_count=0\n",
    "    conson_count=0\n",
    "    str_lo=str.lower()\n",
    "    str1=str_lo.replace(\" \",\"\")\n",
    "    \n",
    "    for i in str1:\n",
    "        if (i == 'a' or i == 'e' or i == 'i' or i == 'o' or i == 'u'):\n",
    "            vowel_count = vowel_count+1\n",
    "        else:\n",
    "            conson_count= conson_count+1\n",
    "            \n",
    "    return vowel_count,conson_count\n",
    "            \n",
    " \n",
    "\n",
    "str = \"my name is situ\"\n",
    "consonantcount(str)"
   ]
  },
  {
   "cell_type": "code",
   "execution_count": 17,
   "id": "1662d32c-65e6-44e2-82e7-c84ac07cb773",
   "metadata": {},
   "outputs": [
    {
     "name": "stdin",
     "output_type": "stream",
     "text": [
      "Enter the string: my name i s situ\n"
     ]
    },
    {
     "name": "stdout",
     "output_type": "stream",
     "text": [
      "the space replace string is : mynameissitu\n"
     ]
    }
   ],
   "source": [
    "str=input(\"Enter the string:\")\n",
    "str_replace=str.replace(\" \",\"\")\n",
    "print(\"the space replace string is :\",str_replace)"
   ]
  },
  {
   "cell_type": "code",
   "execution_count": 20,
   "id": "d073227d-0b0a-48ed-a0b2-74e9715365b8",
   "metadata": {},
   "outputs": [
    {
     "data": {
      "text/plain": [
       "12"
      ]
     },
     "execution_count": 20,
     "metadata": {},
     "output_type": "execute_result"
    }
   ],
   "source": [
    "## to find length of a string with out using len()\n",
    "def lenstr(str):\n",
    "    count=0\n",
    "    for i in str:\n",
    "        if i != \" \":\n",
    "            count += 1\n",
    "    return count\n",
    "\n",
    "str=\"my name is situ\"\n",
    "lenstr(str)"
   ]
  },
  {
   "cell_type": "code",
   "execution_count": 41,
   "id": "51998985-3848-495f-b17f-94ee8a247c3e",
   "metadata": {},
   "outputs": [
    {
     "name": "stdout",
     "output_type": "stream",
     "text": [
      "The string do not have the word\n"
     ]
    }
   ],
   "source": [
    "def checkstr(str):\n",
    "    wordmatch='situ'\n",
    "    str_split=str.split()\n",
    "    if wordmatch in str_split:\n",
    "        print('The string contain the word',wordmatch)\n",
    "    else:\n",
    "        print('The string do not have the word')\n",
    "        \n",
    "str='my name is deepu'\n",
    "checkstr(str)        "
   ]
  },
  {
   "cell_type": "code",
   "execution_count": 48,
   "id": "f63e8db8-23ae-4ece-8e1e-a9dd109c8d2c",
   "metadata": {},
   "outputs": [
    {
     "name": "stdin",
     "output_type": "stream",
     "text": [
      "Input the straing my name is situ\n",
      "the replace word situ\n",
      "the new word to be replace deba\n"
     ]
    },
    {
     "name": "stdout",
     "output_type": "stream",
     "text": [
      "The modified string is my name is deba\n"
     ]
    }
   ],
   "source": [
    "##Replace new owrd with old word\n",
    "str=input('Input the string')\n",
    "oldword=input('the replace word')\n",
    "newword=input('the new word to be replace')\n",
    "str_replace=str.replace(oldword,newword)\n",
    "print(\"The modified string\",str_replace)\n",
    "\n",
    "    "
   ]
  },
  {
   "cell_type": "code",
   "execution_count": 70,
   "id": "002d0152-4afa-459c-962a-e6e2ede8bd77",
   "metadata": {},
   "outputs": [
    {
     "name": "stdin",
     "output_type": "stream",
     "text": [
      "enter the string how are you dear situ,situ are u good, situ i am fine\n",
      "enter the word for occurance to see itu\n"
     ]
    },
    {
     "name": "stdout",
     "output_type": "stream",
     "text": [
      "the word count in the string is 0\n"
     ]
    }
   ],
   "source": [
    "str=input(\"enter the string\")\n",
    "word_occ=input(\"enter the word for occurance to see\")\n",
    "count=0\n",
    "str1=str.split()\n",
    "for i in str1:\n",
    "    if i == word_occ:\n",
    "        count+=1\n",
    "    \n",
    "print(\"the word count in the string is\",count)\n",
    "        \n",
    "    \n",
    "\n",
    "\n"
   ]
  },
  {
   "cell_type": "code",
   "execution_count": 6,
   "id": "8fa626b8-93c4-459c-81a3-8c3ce0b0bcc5",
   "metadata": {},
   "outputs": [
    {
     "data": {
      "text/plain": [
       "11"
      ]
     },
     "execution_count": 6,
     "metadata": {},
     "output_type": "execute_result"
    }
   ],
   "source": [
    "## first occurnce of word\n",
    "def find_first_occ(str, word):\n",
    "    index = str.find(word)\n",
    "    \n",
    "    if index == -1:\n",
    "        return None  \n",
    "\n",
    "    return index\n",
    "\n",
    "str= \"This is an example sentence. This sentence contains the word example.\"\n",
    "word = \"example\"\n",
    "find_first_occ(str,'example')"
   ]
  },
  {
   "cell_type": "code",
   "execution_count": 5,
   "id": "29b63990-1cb2-4314-9c0f-1ec98ff9e8ef",
   "metadata": {},
   "outputs": [
    {
     "data": {
      "text/plain": [
       "0"
      ]
     },
     "execution_count": 5,
     "metadata": {},
     "output_type": "execute_result"
    }
   ],
   "source": [
    "text = \"This is an example sentence. This sentence contains the word example.\"\n",
    "word = \"example\""
   ]
  },
  {
   "cell_type": "code",
   "execution_count": 8,
   "id": "4bc233f3-b390-4bf2-a8e2-94e8f60dc2c6",
   "metadata": {},
   "outputs": [
    {
     "data": {
      "text/plain": [
       "56"
      ]
     },
     "execution_count": 8,
     "metadata": {},
     "output_type": "execute_result"
    }
   ],
   "source": [
    "##Last occurnce of word\n",
    "def find_first_occ(str, word):\n",
    "    index = str.rfind(word)\n",
    "    \n",
    "    if index == -1:\n",
    "        return None  \n",
    "\n",
    "    return index\n",
    "\n",
    "str= \"This is an example sentence. This sentence contains the word example.\"\n",
    "word = \"example\"\n",
    "find_first_occ(str,'word')"
   ]
  },
  {
   "cell_type": "code",
   "execution_count": 9,
   "id": "6235d97c-f44f-499a-8c4e-b291eb3c6f67",
   "metadata": {},
   "outputs": [
    {
     "data": {
      "text/plain": [
       "['how', 'are', 'you']"
      ]
     },
     "execution_count": 9,
     "metadata": {},
     "output_type": "execute_result"
    }
   ],
   "source": [
    "def split_word(str):\n",
    "    split_str=str.split()\n",
    "    return split_str\n",
    "\n",
    "\n",
    "str=\"how are you\"\n",
    "split_word(str)"
   ]
  },
  {
   "cell_type": "code",
   "execution_count": 16,
   "id": "b161fec9-ea66-4b77-bd80-e42ffe426031",
   "metadata": {},
   "outputs": [
    {
     "data": {
      "text/plain": [
       "'how are you ?'"
      ]
     },
     "execution_count": 16,
     "metadata": {},
     "output_type": "execute_result"
    }
   ],
   "source": [
    "def join_word(str):\n",
    "    join_str=' '.join(str)\n",
    "    return join_str\n",
    "\n",
    "\n",
    "str=['how','are','you','?']\n",
    "join_word(str)"
   ]
  },
  {
   "cell_type": "code",
   "execution_count": 18,
   "id": "b70fa037-abb9-486e-941a-e92bc740eb2a",
   "metadata": {},
   "outputs": [
    {
     "data": {
      "text/plain": [
       "'i_am_a_good_gal'"
      ]
     },
     "execution_count": 18,
     "metadata": {},
     "output_type": "execute_result"
    }
   ],
   "source": [
    "#16. Convert a string where words are separated by spaces to one where words\n",
    "#are separated by underscores.\n",
    "\n",
    "def sep_word(str):\n",
    "    str_underscored=str.replace(' ','_')\n",
    "    \n",
    "    return str_underscored\n",
    "\n",
    "\n",
    "str='i am a good gal'\n",
    "sep_word(str)"
   ]
  },
  {
   "cell_type": "code",
   "execution_count": 27,
   "id": "0fe17192-cc23-474a-9a6b-4dd481ab90fe",
   "metadata": {},
   "outputs": [
    {
     "name": "stdout",
     "output_type": "stream",
     "text": [
      "The str starts with the word The\n"
     ]
    }
   ],
   "source": [
    "#Check if a string starts with a specific word or phrase.\n",
    "\n",
    "def spec_word(str,speword):\n",
    "    str1=str.startswith(speword)\n",
    "    return str1\n",
    "\n",
    "str=\"The world is beautifully designed\"\n",
    "speword=\"The\"\n",
    "index=spec_word(str,speword)\n",
    "if index==True:\n",
    "    print(\"The str starts with the word\", speword)\n",
    "else:\n",
    "    print(\"The str does not start with the word\")\n"
   ]
  },
  {
   "cell_type": "code",
   "execution_count": 32,
   "id": "3c895952-f6ae-4c69-ad8a-f634aa911f1c",
   "metadata": {},
   "outputs": [
    {
     "name": "stdout",
     "output_type": "stream",
     "text": [
      "The str ends with the word designed\n"
     ]
    }
   ],
   "source": [
    "#18. Check if a string ends with a specific word or phrase.\n",
    "\n",
    "def spec_word(str,speword):\n",
    "    str1=str.endswith(speword)\n",
    "    return str1\n",
    "\n",
    "str=\"The world is beautifully designed\"\n",
    "speword='designed'\n",
    "index=spec_word(str,speword)\n",
    "if index==True:\n",
    "    print(\"The str ends with the word\", speword)\n",
    "else:\n",
    "    print(\"The str does not end with the word\")\n"
   ]
  },
  {
   "cell_type": "code",
   "execution_count": 37,
   "id": "b22594d8-3dea-4617-a4e6-105e11992fdc",
   "metadata": {},
   "outputs": [
    {
     "name": "stdout",
     "output_type": "stream",
     "text": [
      "the title case is----  How To Deal With This Situation\n"
     ]
    }
   ],
   "source": [
    "##Convert a string to title case\n",
    "def title_case(str):\n",
    "    str_up=str.title()\n",
    "    return str_up\n",
    "\n",
    "str='how to deal with this situation'\n",
    "print(\"the title case is---- \",title_case(str))"
   ]
  },
  {
   "cell_type": "code",
   "execution_count": 44,
   "id": "b617b40c-5205-409d-a566-e557f413d6c0",
   "metadata": {},
   "outputs": [
    {
     "name": "stdout",
     "output_type": "stream",
     "text": [
      "lonest word situation\n"
     ]
    }
   ],
   "source": [
    "##Find the longest word in a string.\n",
    "def find_longest(str):\n",
    "    len_count=0\n",
    "    str1=str.split()\n",
    "    for word in str1:\n",
    "        if len(word)>len_count:\n",
    "            len_count = len(word)\n",
    "            longestword= word\n",
    "    return longestword\n",
    "\n",
    "str='how to deal with this situation'\n",
    "long_word=find_longest(str)  \n",
    "print('lonest word',long_word)"
   ]
  },
  {
   "cell_type": "code",
   "execution_count": 46,
   "id": "dbdc3b09-0c72-4e25-8d3c-37cc8b6f5070",
   "metadata": {},
   "outputs": [
    {
     "name": "stdout",
     "output_type": "stream",
     "text": [
      "shortest word to\n"
     ]
    }
   ],
   "source": [
    "#Find the shortest word in a string.\n",
    "\n",
    "def find_shortest(str):\n",
    "    len_count=float('inf')\n",
    "    str1=str.split()\n",
    "    for word in str1:\n",
    "        if len(word) < len_count:\n",
    "            len_count = len(word)\n",
    "            shortword= word\n",
    "    return shortword\n",
    "\n",
    "str='how to deal with this situation'\n",
    "short_word=find_shortest(str)  \n",
    "print('shortest word',short_word)"
   ]
  },
  {
   "cell_type": "code",
   "execution_count": 47,
   "id": "a1f3b224-9977-454b-a9e0-d369a03a6997",
   "metadata": {},
   "outputs": [
    {
     "name": "stdin",
     "output_type": "stream",
     "text": [
      "enter the string how do you do\n"
     ]
    },
    {
     "name": "stdout",
     "output_type": "stream",
     "text": [
      "od uoy od woh\n"
     ]
    }
   ],
   "source": [
    "#3 Reverse the order of words in a string.\n",
    "str=input('enter the string')\n",
    "str1=str[::-1]\n",
    "print(str1)"
   ]
  },
  {
   "cell_type": "code",
   "execution_count": 52,
   "id": "008f866a-8e6e-405f-8f0b-0ef113e75815",
   "metadata": {},
   "outputs": [
    {
     "name": "stdout",
     "output_type": "stream",
     "text": [
      "the string contain all alphanumeric word\n"
     ]
    }
   ],
   "source": [
    "#Check if a string is alphanumeric.\n",
    "\n",
    "def is_alnum(str):\n",
    "    str1=str.isalnum()\n",
    "    return str1\n",
    " \n",
    "    \n",
    "str='look9inside8in0to4your5brain'    \n",
    "st=is_alnum(str)\n",
    "if st==True:\n",
    "    print(\"the string contain all alphanumeric word\")\n",
    "else:\n",
    "    print(\"the string does not contain all alphanumeric word\")\n"
   ]
  },
  {
   "cell_type": "code",
   "execution_count": 67,
   "id": "cd88b133-51f2-4491-9565-11e1bf926724",
   "metadata": {},
   "outputs": [
    {
     "name": "stdout",
     "output_type": "stream",
     "text": [
      "The digits are ['1', '2', '4', '5', '6', '3', '4', '5', '6', '7', '8', '9']\n"
     ]
    }
   ],
   "source": [
    "#Extract all digits from a string.\n",
    "my_string = \"12 el  ow 4563 45 67 hello 89\"\n",
    "digit=[]\n",
    "str_split=my_string.split()\n",
    "for word in str_split:\n",
    "    if word.isdigit():\n",
    "        digit += word\n",
    "    \n",
    "print(\"The digits are\", digit)"
   ]
  },
  {
   "cell_type": "code",
   "execution_count": 68,
   "id": "8232599e-4bc4-40b0-8fe5-1d3b9bfc9cac",
   "metadata": {},
   "outputs": [
    {
     "name": "stdout",
     "output_type": "stream",
     "text": [
      "The letters are ['e', 'l', 'o', 'w', 'h', 'e', 'l', 'l', 'o']\n"
     ]
    }
   ],
   "source": [
    "#Extract all alphabets from a string.\n",
    "my_string = \"12 el  ow 4563 45 67 hello 89\"\n",
    "letter = []\n",
    "str_split = my_string.split()\n",
    "for word in str_split:\n",
    "    if word.isalpha():\n",
    "        letter += word\n",
    "    \n",
    "print(\"The letters are\", letter)"
   ]
  },
  {
   "cell_type": "code",
   "execution_count": 90,
   "id": "8f82a899-e0e5-4055-95ed-3f0ab0ad5a4a",
   "metadata": {},
   "outputs": [
    {
     "name": "stdout",
     "output_type": "stream",
     "text": [
      "The word uppercase count 7\n"
     ]
    }
   ],
   "source": [
    "#Count the number of uppercase letters in a string.\n",
    "my_string = \"TherE IS Always A Pathway\"\n",
    "letter = ''\n",
    "count = 0\n",
    "for word in my_string:\n",
    "    if word.isupper():\n",
    "        count = count+1\n",
    "    \n",
    "print(\"The word uppercase count\", count)"
   ]
  },
  {
   "cell_type": "code",
   "execution_count": 91,
   "id": "40a962cc-40a2-424b-a3d5-485a35c4df15",
   "metadata": {},
   "outputs": [
    {
     "name": "stdout",
     "output_type": "stream",
     "text": [
      "The word lowercase count 14\n"
     ]
    }
   ],
   "source": [
    "#Count the number of lowercase letters in a string.\n",
    "\n",
    "my_string = \"TherE IS Always A Pathway\"\n",
    "letter = ''\n",
    "count = 0\n",
    "for word in my_string:\n",
    "    if word.islower():\n",
    "        count = count+1\n",
    "    \n",
    "print(\"The word lowercase count\", count)"
   ]
  },
  {
   "cell_type": "code",
   "execution_count": 11,
   "id": "2d213409-93c1-46fd-a3d5-65fcd3c329b0",
   "metadata": {},
   "outputs": [
    {
     "name": "stdin",
     "output_type": "stream",
     "text": [
      "enter the string to be swapped--- My Name is sITU\n"
     ]
    },
    {
     "name": "stdout",
     "output_type": "stream",
     "text": [
      "the swaped string is---- mY nAME IS Situ\n"
     ]
    }
   ],
   "source": [
    "#Swap the case of each character in a string.\n",
    "my_string = input('enter the string to be swapped---')\n",
    "swap_str=my_string.swapcase()\n",
    "print(\"the swaped string is----\", swap_str)\n",
    "\n",
    "    \n"
   ]
  },
  {
   "cell_type": "code",
   "execution_count": 14,
   "id": "e6ee8794-b8d6-49d2-8f09-6b79b37452bb",
   "metadata": {},
   "outputs": [
    {
     "data": {
      "text/plain": [
       "'HelpEverybody'"
      ]
     },
     "execution_count": 14,
     "metadata": {},
     "output_type": "execute_result"
    }
   ],
   "source": [
    "#Remove a specific word from a string.\n",
    "def remove_word(str,specword):\n",
    "    str1=str.split()\n",
    "    placed_word=[word for word in str1 if word!=specword]\n",
    "    modified_str=''.join(placed_word)\n",
    "    return modified_str\n",
    "    \n",
    "    \n",
    "    \n",
    "str='Help no Everybody'\n",
    "specword='no'\n",
    "remove_word(str,specword)\n"
   ]
  },
  {
   "cell_type": "code",
   "execution_count": 20,
   "id": "bb7436e0-6e6b-4875-9129-898c83c1ecb6",
   "metadata": {},
   "outputs": [
    {
     "name": "stdout",
     "output_type": "stream",
     "text": [
      "True\n",
      "False\n"
     ]
    }
   ],
   "source": [
    "#Check if a string is a valid email address.\n",
    "import re\n",
    "def is_valid_email(email):\n",
    "    pattern = r'^[\\w\\.-]+@[\\w\\.-]+\\.\\w+$'  # Regular expression pattern for a basic email validation\n",
    "    if re.match(pattern, email):\n",
    "        return True\n",
    "    else:\n",
    "        return False\n",
    "    \n",
    "    \n",
    "email1 = \"example@email.com\"\n",
    "email2 = \"invalid-email\"\n",
    "result1 = is_valid_email(email1)\n",
    "result2 = is_valid_email(email2)\n",
    "print(result1)\n",
    "print(result2)"
   ]
  },
  {
   "cell_type": "code",
   "execution_count": 21,
   "id": "e9f1f255-56aa-4374-8074-4820c5ed244b",
   "metadata": {},
   "outputs": [
    {
     "name": "stdin",
     "output_type": "stream",
     "text": [
      "enter email address: apta.debabadana@gmail.com\n"
     ]
    },
    {
     "name": "stdout",
     "output_type": "stream",
     "text": [
      "the user name from email is apta.debabadana\n"
     ]
    }
   ],
   "source": [
    "#Extract the username from an email address string.\n",
    "e_id=input(\"enter email address:\")\n",
    "st = e_id.split('@')[0]\n",
    "print(\"the user name from email is\", st)"
   ]
  },
  {
   "cell_type": "code",
   "execution_count": 23,
   "id": "44da11f7-36e5-4421-bc73-a24bb9669c0b",
   "metadata": {},
   "outputs": [
    {
     "name": "stdin",
     "output_type": "stream",
     "text": [
      "enter email address: apta.deab@gmail.com\n"
     ]
    },
    {
     "name": "stdout",
     "output_type": "stream",
     "text": [
      "the domain name from email is gmail.com\n"
     ]
    }
   ],
   "source": [
    "#Extract the domain name from an email address string.\n",
    "\n",
    "e_id=input(\"enter email address:\")\n",
    "st = e_id.split('@')[1]\n",
    "print(\"the domain name from email is\", st)\n"
   ]
  },
  {
   "cell_type": "code",
   "execution_count": 28,
   "id": "d9df1752-fca0-408a-ab03-2c3e3a966730",
   "metadata": {},
   "outputs": [
    {
     "name": "stdin",
     "output_type": "stream",
     "text": [
      "enter the string: helo world     help\n"
     ]
    },
    {
     "name": "stdout",
     "output_type": "stream",
     "text": [
      "The space removed string is helo@world@help\n"
     ]
    }
   ],
   "source": [
    "##Replace multiple spaces in a string with a single space.\n",
    "str=input('enter the string:')\n",
    "str1=' '.join(str.split())\n",
    "print('The space removed string is',str1)\n"
   ]
  },
  {
   "cell_type": "code",
   "execution_count": 29,
   "id": "ace78ccb-8d50-4b2e-b56c-b581b1fa38f7",
   "metadata": {},
   "outputs": [
    {
     "name": "stdout",
     "output_type": "stream",
     "text": [
      "Original string: Hello, world! How's it going?\n",
      "Cleaned string: Hello world Hows it going\n"
     ]
    }
   ],
   "source": [
    "#Cremove puncation\n",
    "import string\n",
    "\n",
    "def remove_punctuation(input_string):\n",
    "   \n",
    "    translator = str.maketrans(\"\", \"\", string.punctuation)\n",
    "\n",
    "    \n",
    "    clean_string = input_string.translate(translator)\n",
    "\n",
    "    return clean_string\n",
    "\n",
    "# Example string with punctuation\n",
    "input_str = \"Hello, world! How's it going?\"\n",
    "\n",
    "# Remove punctuation\n",
    "cleaned_str = remove_punctuation(input_str)\n",
    "\n",
    "# Print the cleaned string\n",
    "print(\"Original string:\", input_str)\n",
    "print(\"Cleaned string:\", cleaned_str)\n"
   ]
  },
  {
   "cell_type": "code",
   "execution_count": null,
   "id": "5c080251-cece-4c0d-8f6a-089d56cda6be",
   "metadata": {},
   "outputs": [],
   "source": []
  }
 ],
 "metadata": {
  "kernelspec": {
   "display_name": "Python 3 (ipykernel)",
   "language": "python",
   "name": "python3"
  },
  "language_info": {
   "codemirror_mode": {
    "name": "ipython",
    "version": 3
   },
   "file_extension": ".py",
   "mimetype": "text/x-python",
   "name": "python",
   "nbconvert_exporter": "python",
   "pygments_lexer": "ipython3",
   "version": "3.10.8"
  }
 },
 "nbformat": 4,
 "nbformat_minor": 5
}
